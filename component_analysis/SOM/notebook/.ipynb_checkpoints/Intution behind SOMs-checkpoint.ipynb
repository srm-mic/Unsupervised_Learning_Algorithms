{
 "cells": [
  {
   "cell_type": "markdown",
   "metadata": {},
   "source": [
    "# Self Organising Maps"
   ]
  },
  {
   "cell_type": "code",
   "execution_count": 1,
   "metadata": {},
   "outputs": [],
   "source": [
    "import numpy as np\n",
    "from matplotlib import pyplot as plt\n",
    "from matplotlib import patches as patches\n",
    "\n",
    "%matplotlib inline"
   ]
  },
  {
   "cell_type": "markdown",
   "metadata": {},
   "source": [
    "## Introduction and Dataset\n",
    "For our example we shall go through the process of training and visualising the Map. We will use a dataset of random colours and the aim being to group them. We shall create this dataset (artificially) of 100 colours represented by a 3D Vector (which has R,G,B values)"
   ]
  },
  {
   "cell_type": "code",
   "execution_count": 2,
   "metadata": {},
   "outputs": [],
   "source": [
    "dataset = np.random.randint(0,255,(3,100))"
   ]
  },
  {
   "cell_type": "markdown",
   "metadata": {},
   "source": [
    "## Objective\n",
    "\n",
    "We are given a 3D Matrix of the Colours. What SOMs do is basically 'map' this 3D Matrix into a 2D space. \n",
    "\n",
    "This is done so that we can easily visualise the 2D surface and group the similar colours"
   ]
  },
  {
   "cell_type": "markdown",
   "metadata": {},
   "source": [
    "### Parameters for our SOM\n",
    "\n",
    "#### SOM Size\n",
    "It is the dimensions of the of the 2D space in which we will project our 3D Coluor Matrix. Here we will take a 5x5 matrix\n",
    "\n",
    "#### Learning Parameters\n",
    "\n",
    "##### Iterations\n",
    "Another important factor is how many times we train our SOM, since it is an Iterative Process. In this problem we will train the SOM 1500 times. For problems where the dataset is much bigger we would need around 10000 or even more iterations of training.\n",
    "\n",
    "##### Learning Rate\n",
    "The learning rate decides by how much we apply changes to our SOM at each iteration. If it’s too high, we will keep making drastic changes to the SOM and might never settle on a solution. If it’s too low, we’ll never get anything done as we will only make very small changes.\n",
    "\n",
    "In practice it is best to start with a larger learning rate and reduce it slowly over time. This is so that the SOM can start by making big changes but then settle into a solution after a while."
   ]
  },
  {
   "cell_type": "code",
   "execution_count": 41,
   "metadata": {},
   "outputs": [],
   "source": [
    "net_dim = np.array([5, 5])\n",
    "iterations = 1500\n",
    "learning_rate = 0.01"
   ]
  },
  {
   "cell_type": "code",
   "execution_count": 42,
   "metadata": {},
   "outputs": [],
   "source": [
    "# Storing the dimensions of the dataset.\n",
    "\n",
    "m = dataset.shape[0]\n",
    "n = dataset.shape[1]\n",
    "\n",
    "# Initialising our initial Neighbourhood Radius\n",
    "\n",
    "init_radius = max(net_dim[0], net_dim[1])\n",
    "\n",
    "# Initial Radius Decay Parameter\n",
    "\n",
    "time_constant = iterations/np.log(init_radius)\n",
    "\n",
    "\n",
    "# So as mentioned above we wanted to decay the learning rate over time.\n",
    "# We also want to decay the radius parameter, which basically tells us\n",
    "# how far we search for 2D neighbours when updating vectors in the SOM."
   ]
  },
  {
   "cell_type": "code",
   "execution_count": 43,
   "metadata": {},
   "outputs": [],
   "source": [
    "# Setup random weights between 0 and 1\n",
    "# The weight matrix (i.e. the SOM) needs to be one m-dimensional vector for each neuron in the SOM\n",
    "net = np.random.random((net_dim[0], net_dim[1], m))"
   ]
  },
  {
   "cell_type": "markdown",
   "metadata": {},
   "source": [
    "## Normalisation\n",
    "\n",
    "One fact about SOMs, just like most other DL Algorithms is that it trains faster and better if the data values are in between 0 and 1, as we prevent one feature(having a large value) from dominating the whole network due to higher preference.\n",
    "\n",
    "Since we have 3 dimensions in our dataset between 0 and 255 we will Normalise it column by column."
   ]
  },
  {
   "cell_type": "code",
   "execution_count": 44,
   "metadata": {},
   "outputs": [],
   "source": [
    "normalise_data = True\n",
    "\n",
    "# If all the Data is on a common scale it will be True\n",
    "normalise_by_column = False\n",
    "\n",
    "# Storing a Copy of our dataset.\n",
    "data = dataset\n",
    "\n",
    "# check if data needs to be normalised\n",
    "if normalise_data:\n",
    "    if normalise_by_column:\n",
    "        # normalise along each column\n",
    "        col_maxes = dataset.max(axis=0)\n",
    "        data = dataset / col_maxes[np.newaxis, :]\n",
    "    else:\n",
    "        # normalise entire dataset\n",
    "        data = dataset / data.max()"
   ]
  },
  {
   "cell_type": "markdown",
   "metadata": {},
   "source": [
    "## Learning Process\n",
    "\n",
    "Learning Steps can broadly be classified into the following parts:\n",
    "\n",
    "- Find the neuron in the SOM whose associated Input(3D) vector is closest to our chosen Input(3D) colour vector and this can be done using the Best Matching Unit (BMU)    \n",
    "    \n",
    "- Move the BMU’s 3D weight vector closer to the input vector in 3D space\n",
    "    \n",
    "- Identify the SOM's(2D) neighbours of the BMU and also move their Input(3D) weight vectors closer to the input vector, although by a smaller amount\n",
    "    \n",
    "- Update the learning rate (reduce it at each iteration)"
   ]
  },
  {
   "cell_type": "markdown",
   "metadata": {},
   "source": [
    "### Calculating the BMU\n",
    "\n",
    "Every node is examined to calculate which one’s weights are most like the input vector. \n",
    "\n",
    "The node whose weights are most similar is known as the Best Matching Unit (BMU).\n",
    "\n",
    "The process of Finding the BMU:\n",
    "\n",
    "    - Initially assign a random input vector.\n",
    "    - Find the Best Matching Unit with the help of the find_bmu function.\n",
    "    - Update the Learning Parameters"
   ]
  },
  {
   "cell_type": "code",
   "execution_count": 47,
   "metadata": {},
   "outputs": [],
   "source": [
    "# This function iterates through each neuron in the SOM, \n",
    "# measures the Euclidian Distance between\n",
    "# the input vector and the Neuron.\n",
    "# It returns the value which is which is closest to the input vector (in the form of a Tuple).\n",
    "# Tuple: (bmu, bmu_idx) where \n",
    "# bmu is the high-dimensional BMU and \n",
    "# bmu_idx is the index of this vector in the SOM \n",
    "\n",
    "def find_bmu(t, net, m):\n",
    "\n",
    "    bmu_idx = np.array([0, 0])\n",
    "    # Setting the initial minimum distance to a huge number\n",
    "    min_dist = np.iinfo(np.int).max\n",
    "    \n",
    "    # Calculating Distance between each Neuron and the Input\n",
    "    for x in range(net.shape[0]):\n",
    "        for y in range(net.shape[1]):\n",
    "            w = net[x, y, :].reshape(m, 1)\n",
    "            sq_dist = np.sum((w - t) ** 2)\n",
    "            if sq_dist < min_dist:\n",
    "                min_dist = sq_dist\n",
    "                bmu_idx = np.array([x, y])\n",
    "                \n",
    "    # Obtain the vector corresponding to bmu_idx\n",
    "    bmu = net[bmu_idx[0], bmu_idx[1], :].reshape(m, 1)\n",
    "    \n",
    "    # Return the tuple (bmu, bmu_idx)\n",
    "    return (bmu, bmu_idx)"
   ]
  },
  {
   "cell_type": "markdown",
   "metadata": {},
   "source": [
    "### Selecting a Random training example and finding its Best Matching Unit"
   ]
  },
  {
   "cell_type": "code",
   "execution_count": 48,
   "metadata": {},
   "outputs": [],
   "source": [
    "# select a training example at random\n",
    "t = data[:, np.random.randint(0, n)].reshape(np.array([m, 1]))\n",
    "\n",
    "# find its Best Matching Unit\n",
    "bmu, bmu_idx = find_bmu(t, net, m)\n"
   ]
  },
  {
   "cell_type": "markdown",
   "metadata": {},
   "source": [
    "### Updating the Learning Parameters"
   ]
  },
  {
   "cell_type": "code",
   "execution_count": 49,
   "metadata": {},
   "outputs": [],
   "source": [
    "# As mentioned above we will be updating\n",
    "# the radius and learning rate (reduce it gradually)\n",
    "def decay_radius(initial_radius, i, time_constant):\n",
    "    return initial_radius * np.exp(-i / time_constant)\n",
    "\n",
    "def decay_learning_rate(initial_learning_rate, i, n_iterations):\n",
    "    return initial_learning_rate * np.exp(-i / n_iterations)"
   ]
  },
  {
   "attachments": {
    "image.png": {
     "image/png": "[encoded data removed]"
    }
   },
   "cell_type": "markdown",
   "metadata": {},
   "source": [
    "### Moving the weights\n",
    "\n",
    "We have obtained both the BMU and updated learning parameters. So now we can update the SOM in such a way that this BMU which we obtained from the Input space is closer to the colour mapped to that Unit. \n",
    "\n",
    "We can also identify the neurons that are close to the BMU in SOM space and update their Input vectors to move towards the BMU.\n",
    "\n",
    "**We use this formula to update the 3D Image Vector:**\n",
    "\n",
    "![image.png](attachment:image.png)\n",
    "\n",
    "So we can say that the new weight vector will be the current weight vector plus the difference between the input vector $V$ and the weight vector, multiplied by a learning rate $L$ at time $t$.\n",
    "\n",
    "As you can see we are trying to move this weight vector closer to the input vector.\n",
    "\n",
    "**We also do the same thing for the 2D space(SOM) but the difference here is that the weight update will be proportional to the 2D distance from the BMU**"
   ]
  },
  {
   "cell_type": "code",
   "execution_count": 50,
   "metadata": {},
   "outputs": [],
   "source": [
    "# Update the weight vector to move closer to the input\n",
    "# and move its neighbours in 2-D vector space(SOM) closer\n",
    "# by a factor proportional to their 2-D distance from the BMU\n",
    "\n",
    "def mov_weights(r, t):\n",
    "    for x in range(net.shape[0]):\n",
    "        for y in range(net.shape[1]):\n",
    "            w = net[x, y, :].reshape(m, 1)\n",
    "\n",
    "            # Obtaining the 2D distance again from the BMU.\n",
    "            w_dist = np.sum((np.array([x, y]) - bmu_idx) ** 2)\n",
    "            w_dist = np.sqrt(w_dist)\n",
    "\n",
    "            # If this distance is within the current neighbourhood\n",
    "            if w_dist <= r:\n",
    "                # Calculate the degree of influence (based on the 2-D distance)\n",
    "                influence = calculate_influence(w_dist, r)\n",
    "\n",
    "                # Update the Neuron's weight.\n",
    "                new_w = w + (l * influence * (t - w))\n",
    "\n",
    "                # Add the new weight\n",
    "                net[x, y, :] = new_w.reshape(1, 3)"
   ]
  },
  {
   "attachments": {
    "image.png": {
     "image/png": "[encoded data removed]"
    }
   },
   "cell_type": "markdown",
   "metadata": {},
   "source": [
    "### Calculating the Influence\n",
    "\n",
    "Since the proportion of the 2D Distance is not uniform, to pull the neighbouring neurons closer the Gaussian function is used.\n",
    "\n",
    "The equation we use to calculate the influence of the neighbours:\n",
    "\n",
    "![image.png](attachment:image.png)\n",
    "\n",
    "where $d$ is the 2D distance and $\\sigma$ is the current radius of our neighbourhood."
   ]
  },
  {
   "cell_type": "code",
   "execution_count": 51,
   "metadata": {},
   "outputs": [],
   "source": [
    "def calculate_influence(distance, radius):\n",
    "    return np.exp(-distance / (2* (radius**2)))"
   ]
  },
  {
   "cell_type": "markdown",
   "metadata": {},
   "source": [
    "## Integrating everything above here"
   ]
  },
  {
   "cell_type": "code",
   "execution_count": 52,
   "metadata": {},
   "outputs": [],
   "source": [
    "for i in range(iterations):\n",
    "    # select a training example at random\n",
    "    t = data[:, np.random.randint(0, n)].reshape(np.array([m, 1]))\n",
    "    \n",
    "    # find its Best Matching Unit\n",
    "    bmu, bmu_idx = find_bmu(t, net, m)\n",
    "    \n",
    "    # decay the SOM parameters\n",
    "    r = decay_radius(init_radius, i, time_constant)\n",
    "    l = decay_learning_rate(learning_rate, i, iterations)\n",
    "    \n",
    "    # Moving the weights\n",
    "    mov_weights(r,t)"
   ]
  },
  {
   "cell_type": "markdown",
   "metadata": {},
   "source": [
    "## Plotting the SOM "
   ]
  },
  {
   "cell_type": "code",
   "execution_count": 53,
   "metadata": {},
   "outputs": [
    {
     "data": {
      "image/png": "[encoded data removed]",
      "text/plain": [
       "<Figure size 432x288 with 1 Axes>"
      ]
     },
     "metadata": {
      "needs_background": "light"
     },
     "output_type": "display_data"
    }
   ],
   "source": [
    "fig = plt.figure()\n",
    "# First we shall setyp our axes\n",
    "ax = fig.add_subplot(111, aspect='equal')\n",
    "ax.set_xlim((0, net.shape[0]+1))\n",
    "ax.set_ylim((0, net.shape[1]+1))\n",
    "ax.set_title('Self-Organizing Map of the 3D vector of colours after %d iterations' % iterations)\n",
    "\n",
    "# Plotting the rectangles\n",
    "for x in range(1, net.shape[0] + 1):\n",
    "    for y in range(1, net.shape[1] + 1):\n",
    "        ax.add_patch(patches.Rectangle((x-0.5, y-0.5), 1, 1,\n",
    "                     facecolor=net[x-1,y-1,:],\n",
    "                     edgecolor='none'))\n",
    "plt.show()"
   ]
  },
  {
   "cell_type": "markdown",
   "metadata": {},
   "source": [
    "We didn't even know what the colours were in our dataset and by just moving the 3D weight vectors to more closely  match our input vectors, we’ve created a 2D colour space (SOM) which shows us the relationship between colours. \n",
    "\n",
    "\n",
    "In this example more of the brownish colours get mapped to the left hand side of the SOM while the light Blue-Purple-Green kind of colours get mapped to the right hand side."
   ]
  },
  {
   "attachments": {
    "SOMs%20final%201.png": {
     "image/png": "[encoded data removed]"
    }
   },
   "cell_type": "markdown",
   "metadata": {},
   "source": [
    "### If we tried with 2000 Iterations\n",
    "![SOMs%20final%201.png](attachment:SOMs%20final%201.png)"
   ]
  },
  {
   "attachments": {
    "SOMs%20Final%202.png": {
     "image/png": "[encoded data removed]"
    }
   },
   "cell_type": "markdown",
   "metadata": {},
   "source": [
    "### If we tried with 3000 iterations\n",
    "![SOMs%20Final%202.png](attachment:SOMs%20Final%202.png)"
   ]
  },
  {
   "cell_type": "markdown",
   "metadata": {},
   "source": [
    "**As you can clearly see for different iterations the Map \"organises\" (or maps) the colours in different ways**"
   ]
  },
  {
   "cell_type": "markdown",
   "metadata": {},
   "source": [
    "# Conclusion\n",
    "\n",
    "The basic concept of a SOM is that we map a high dimensional Vector to a simpler 2D Space. \n",
    "\n",
    "It is very similar to K-means Clustering, which brings us to the question, **What is the difference between SOMs and K-Means Clustering?**\n",
    "\n",
    "**In K-means, the clusters are formed through the centroids and the cluster size, where the centroids are independent of each other. And also one has to mention the number of clusters beforehand itself in K-means.**\n",
    "**Whereas in SOMs we are forming a relationship between the neurons in the Matrix and the input layer and this in turn helps us build the cluster geometrically.**\n",
    "\n",
    "So in SOMs we preserve the original Topology, as the distances in the 2D space reflects those distances high-dimensional space.\n",
    "\n",
    "\n",
    "So we just took a random 3D Colour Matrix and grouped the colours by mapping the Matrix to a 2 Dimensional  Self-Organinsing Map. This is a very useful Unsupervised Learning Algorithm which, people say, was used before Back-prop came into the picture.\n",
    "\n",
    "\n",
    "**Uses of SOMs:**\n",
    "\n",
    "    - Dimensionality Reduction\n",
    "    - Visualising High Dimensional Data in 2D space\n",
    "    - Clustering Problems"
   ]
  }
 ],
 "metadata": {
  "kernelspec": {
   "display_name": "Python 3",
   "language": "python",
   "name": "python3"
  },
  "language_info": {
   "codemirror_mode": {
    "name": "ipython",
    "version": 3
   },
   "file_extension": ".py",
   "mimetype": "text/x-python",
   "name": "python",
   "nbconvert_exporter": "python",
   "pygments_lexer": "ipython3",
   "version": "3.8.5"
  }
 },
 "nbformat": 4,
 "nbformat_minor": 4
}
