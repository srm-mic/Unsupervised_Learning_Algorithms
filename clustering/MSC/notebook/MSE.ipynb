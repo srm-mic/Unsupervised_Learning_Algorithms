{
  "nbformat": 4,
  "nbformat_minor": 0,
  "metadata": {
    "colab": {
      "name": "MSE.ipynb",
      "provenance": []
    },
    "kernelspec": {
      "name": "python3",
      "display_name": "Python 3"
    },
    "language_info": {
      "name": "python"
    }
  },
  "cells": [
    {
      "cell_type": "markdown",
      "metadata": {
        "id": "fZe4RoIXcMIN"
      },
      "source": [
        "Importing Libraries"
      ]
    },
    {
      "cell_type": "code",
      "metadata": {
        "id": "Qy0YQKJ3mtB6"
      },
      "source": [
        "import matplotlib.pyplot as plt\n",
        "from matplotlib import style\n",
        "#import numpy as np\n",
        "style.use('ggplot')\n",
        "from sklearn.datasets import make_blobs\n"
      ],
      "execution_count": 21,
      "outputs": []
    },
    {
      "cell_type": "markdown",
      "metadata": {
        "id": "jf4IPA_KcUFu"
      },
      "source": [
        "Generating Dataset\n"
      ]
    },
    {
      "cell_type": "code",
      "metadata": {
        "id": "HG_gnE_7o-xP"
      },
      "source": [
        "X, y = make_blobs(n_samples=15, centers=3, n_features=2)\n"
      ],
      "execution_count": 22,
      "outputs": []
    },
    {
      "cell_type": "markdown",
      "metadata": {
        "id": "1JfnNH3rccY-"
      },
      "source": [
        "Mean Shift Clustering"
      ]
    },
    {
      "cell_type": "code",
      "metadata": {
        "id": "eAS37FHEp-x-"
      },
      "source": [
        "\n",
        "class Mean_Shift:\n",
        "    def __init__(self, radius=None, radius_norm_step=100):\n",
        "        self.radius = radius\n",
        "        self.radius_norm_step = radius_norm_step\n",
        "\n",
        "    def fit(self, data):\n",
        "\n",
        "        if self.radius == None:\n",
        "            all_data_centroid = np.average(data, axis=0)\n",
        "            all_data_norm = np.linalg.norm(all_data_centroid)\n",
        "            self.radius = all_data_norm / self.radius_norm_step\n",
        "            print(self.radius)\n",
        "\n",
        "        centroids = {}\n",
        "\n",
        "        for i in range(len(data)):\n",
        "            centroids[i] = data[i]\n",
        "\n",
        "        weights = [i for i in range(self.radius_norm_step)][::-1]\n",
        "        while True:\n",
        "            new_centroids = []\n",
        "            for i in centroids:\n",
        "                in_bandwidth = []\n",
        "                centroid = centroids[i]\n",
        "\n",
        "                for featureset in data:\n",
        "\n",
        "                    distance = np.linalg.norm(featureset - centroid)\n",
        "                    if distance == 0:\n",
        "                        distance = 0.00000001\n",
        "                    weight_index = int(distance / self.radius)\n",
        "                    if weight_index > self.radius_norm_step - 1:\n",
        "                        weight_index = self.radius_norm_step - 1\n",
        "\n",
        "                    to_add = (weights[weight_index] ** 2) * [featureset]\n",
        "                    in_bandwidth += to_add\n",
        "\n",
        "                new_centroid = np.average(in_bandwidth, axis=0)\n",
        "                new_centroids.append(tuple(new_centroid))\n",
        "\n",
        "            uniques = sorted(list(set(new_centroids)))\n",
        "\n",
        "            to_pop = []\n",
        "\n",
        "            for i in uniques:\n",
        "                for ii in [i for i in uniques]:\n",
        "                    if i == ii:\n",
        "                        pass\n",
        "                    elif np.linalg.norm(np.array(i) - np.array(ii)) <= self.radius:\n",
        "                        #print(np.array(i), np.array(ii))\n",
        "                        to_pop.append(ii)\n",
        "                        break\n",
        "\n",
        "            for i in to_pop:\n",
        "                try:\n",
        "                    uniques.remove(i)\n",
        "                except:\n",
        "                    pass\n",
        "\n",
        "            prev_centroids = dict(centroids)\n",
        "            centroids = {}\n",
        "            for i in range(len(uniques)):\n",
        "                centroids[i] = np.array(uniques[i])\n",
        "\n",
        "            optimized = True\n",
        "\n",
        "            for i in centroids:\n",
        "                if not np.array_equal(centroids[i], prev_centroids[i]):\n",
        "                    optimized = False\n",
        "\n",
        "            if optimized:\n",
        "                break\n",
        "\n",
        "        self.centroids = centroids\n",
        "        self.classifications = {}\n",
        "\n",
        "        for i in range(len(self.centroids)):\n",
        "            self.classifications[i] = []\n",
        "\n",
        "        for featureset in data:\n",
        "            # compare distance to either centroid\n",
        "            distances = [np.linalg.norm(featureset - self.centroids[centroid]) for centroid in self.centroids]\n",
        "            # print(distances)\n",
        "            classification = (distances.index(min(distances)))\n",
        "\n",
        "            # featureset that belongs to that cluster\n",
        "            self.classifications[classification].append(featureset)\n",
        "\n",
        "    def predict(self, data):\n",
        "        # compare distance to either centroid\n",
        "        distances = [np.linalg.norm(data - self.centroids[centroid]) for centroid in self.centroids]\n",
        "        classification = (distances.index(min(distances)))\n",
        "        return classification"
      ],
      "execution_count": 23,
      "outputs": []
    },
    {
      "cell_type": "code",
      "metadata": {
        "id": "8mLx7ExmqAOf",
        "colab": {
          "base_uri": "https://localhost:8080/"
        },
        "outputId": "d22aa432-bdfe-45b0-c712-0f64949b13c7"
      },
      "source": [
        "clf = Mean_Shift()\n",
        "clf.fit(X)\n",
        "colors = 10 * [\"g\", \"r\", \"c\", \"b\", \"k\"]"
      ],
      "execution_count": 24,
      "outputs": [
        {
          "output_type": "stream",
          "text": [
            "0.04770912921321315\n"
          ],
          "name": "stdout"
        }
      ]
    },
    {
      "cell_type": "code",
      "metadata": {
        "colab": {
          "base_uri": "https://localhost:8080/"
        },
        "id": "pTNf165uIy5_",
        "outputId": "4f0558ea-01f4-4df3-da5a-436547fa498f"
      },
      "source": [
        "centroids = clf.centroids\n",
        "print(centroids)"
      ],
      "execution_count": 25,
      "outputs": [
        {
          "output_type": "stream",
          "text": [
            "{0: array([-5.6656441,  3.5968389]), 1: array([-5.59814443, -2.10975733]), 2: array([-1.59202526,  4.54415159])}\n"
          ],
          "name": "stdout"
        }
      ]
    },
    {
      "cell_type": "markdown",
      "metadata": {
        "id": "38u90bjPdAal"
      },
      "source": [
        "Plotting the classified data points and their centroids"
      ]
    },
    {
      "cell_type": "code",
      "metadata": {
        "colab": {
          "base_uri": "https://localhost:8080/",
          "height": 265
        },
        "id": "ivKhvqPp3-OW",
        "outputId": "81b72ec5-605c-4777-e6f3-40f5bea6962e"
      },
      "source": [
        "for classification in clf.classifications:\n",
        "    color = colors[classification]\n",
        "    for featureset in clf.classifications[classification]:\n",
        "        plt.scatter(featureset[0], featureset[1], marker=\"x\", color=color, s=150, linewidths=5, zorder=10)\n",
        "\n",
        "for c in centroids:\n",
        "    plt.scatter(centroids[c][0], centroids[c][1], color='k', marker=\"*\", s=50, linewidths=0.5)\n",
        "\n",
        "plt.show()"
      ],
      "execution_count": 26,
      "outputs": [
        {
          "output_type": "display_data",
          "data": {
            "image/png": "[encoded data removed]",
            "text/plain": [
              "<Figure size 432x288 with 1 Axes>"
            ]
          },
          "metadata": {
            "tags": []
          }
        }
      ]
    }
  ]
}